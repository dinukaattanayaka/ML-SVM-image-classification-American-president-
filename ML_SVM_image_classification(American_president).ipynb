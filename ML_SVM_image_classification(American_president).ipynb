{
  "nbformat": 4,
  "nbformat_minor": 0,
  "metadata": {
    "colab": {
      "provenance": [],
      "authorship_tag": "ABX9TyPTWaXWtaQk5v/smQbmEFkz",
      "include_colab_link": true
    },
    "kernelspec": {
      "name": "python3",
      "display_name": "Python 3"
    },
    "language_info": {
      "name": "python"
    }
  },
  "cells": [
    {
      "cell_type": "markdown",
      "metadata": {
        "id": "view-in-github",
        "colab_type": "text"
      },
      "source": [
        "<a href=\"https://colab.research.google.com/github/dinukaattanayaka/ML-SVM-image-classification-American-president-/blob/main/ML_SVM_image_classification(American_president).ipynb\" target=\"_parent\"><img src=\"https://colab.research.google.com/assets/colab-badge.svg\" alt=\"Open In Colab\"/></a>"
      ]
    },
    {
      "cell_type": "code",
      "source": [
        "from google.colab import drive\n",
        "drive.mount('/content/drive')"
      ],
      "metadata": {
        "colab": {
          "base_uri": "https://localhost:8080/"
        },
        "id": "WFTa7Poh_Ksw",
        "outputId": "439ad94f-c495-4968-eb83-4dc00c1ce3c9"
      },
      "execution_count": 1,
      "outputs": [
        {
          "output_type": "stream",
          "name": "stdout",
          "text": [
            "Mounted at /content/drive\n"
          ]
        }
      ]
    },
    {
      "cell_type": "code",
      "source": [],
      "metadata": {
        "id": "OGtw6TNE-ofK"
      },
      "execution_count": null,
      "outputs": []
    },
    {
      "cell_type": "code",
      "source": [
        "import os\n",
        "import cv2\n",
        "import numpy as np\n",
        "\n",
        "# Paths\n",
        "data_path = '/content/drive/MyDrive/machine learning/DAY 2/train_data_2'\n",
        "output_path = '/content/drive/MyDrive/machine learning/DAY 2/detected_faces'\n",
        "\n",
        "# Ensure output path exists\n",
        "os.makedirs(output_path, exist_ok=True)   #output path eke folder ekak hadanw\n",
        "\n",
        "# Get labels and categories\n",
        "labels = os.listdir(data_path)\n",
        "categories = np.arange(len(labels))\n",
        "category_dict = dict(zip(labels, categories))\n",
        "\n",
        "print(\"Labels:\", labels)\n",
        "print(\"Categories:\", categories)\n",
        "print(\"Category Dictionary:\", category_dict)\n",
        "\n",
        "# Initialize face classifier\n",
        "face_classifier = cv2.CascadeClassifier('/content/drive/MyDrive/machine learning/DAY 2/haarcascade_frontalface_default.xml')\n",
        "\n",
        "# Loop through each label\n",
        "face_count = 0\n",
        "for label in labels:\n",
        "    imgs_path = os.path.join(data_path, label)\n",
        "    img_names = os.listdir(imgs_path)\n",
        "\n",
        "    # Loop through each image\n",
        "    for img_name in img_names:\n",
        "        img_path = os.path.join(imgs_path, img_name)\n",
        "        img = cv2.imread(img_path)\n",
        "\n",
        "        if img is None:\n",
        "            print(f\"Failed to load image: {img_path}\")\n",
        "            continue\n",
        "\n",
        "        # Convert to grayscale\n",
        "        gray = cv2.cvtColor(img, cv2.COLOR_BGR2GRAY)\n",
        "        faces = face_classifier.detectMultiScale(gray)\n",
        "\n",
        "        # Process detected faces\n",
        "        for (x, y, w, h) in faces:\n",
        "            cropped_face = gray[y:y+h, x:x+w]\n",
        "            resized_face = cv2.resize(cropped_face, (50, 50))\n",
        "\n",
        "            # Save face to output folder\n",
        "            face_file = os.path.join(output_path, f\"face_{face_count}.jpg\")  #\"face_{face_count}.jpg\" me kotasa string format eken gnna kyl kyn\n",
        "            cv2.imwrite(face_file, resized_face)  #resize krpu face eka face file kyn path ekt dagnnw\n",
        "            print(f\"Saved: {face_file}\")   #print(\"Saved: \" + face_file) mehemth puluwn. f kyn string kyn eka\n",
        "\n",
        "            face_count += 1\n",
        "\n",
        "print(f\"Total faces saved: {face_count}\")\n"
      ],
      "metadata": {
        "id": "XG7J78Rv_UR9",
        "outputId": "8b76c6ec-dafd-4da6-f1c5-a5559ff3cb43",
        "colab": {
          "base_uri": "https://localhost:8080/"
        }
      },
      "execution_count": 12,
      "outputs": [
        {
          "output_type": "stream",
          "name": "stdout",
          "text": [
            "Labels: ['Barack Obama', 'Donald Trump', 'George W Bush']\n",
            "Categories: [0 1 2]\n",
            "Category Dictionary: {'Barack Obama': 0, 'Donald Trump': 1, 'George W Bush': 2}\n",
            "Saved: /content/drive/MyDrive/machine learning/DAY 2/detected_faces/face_0.jpg\n",
            "Saved: /content/drive/MyDrive/machine learning/DAY 2/detected_faces/face_1.jpg\n",
            "Saved: /content/drive/MyDrive/machine learning/DAY 2/detected_faces/face_2.jpg\n",
            "Saved: /content/drive/MyDrive/machine learning/DAY 2/detected_faces/face_3.jpg\n",
            "Saved: /content/drive/MyDrive/machine learning/DAY 2/detected_faces/face_4.jpg\n",
            "Saved: /content/drive/MyDrive/machine learning/DAY 2/detected_faces/face_5.jpg\n",
            "Saved: /content/drive/MyDrive/machine learning/DAY 2/detected_faces/face_6.jpg\n",
            "Saved: /content/drive/MyDrive/machine learning/DAY 2/detected_faces/face_7.jpg\n",
            "Saved: /content/drive/MyDrive/machine learning/DAY 2/detected_faces/face_8.jpg\n",
            "Saved: /content/drive/MyDrive/machine learning/DAY 2/detected_faces/face_9.jpg\n",
            "Saved: /content/drive/MyDrive/machine learning/DAY 2/detected_faces/face_10.jpg\n",
            "Saved: /content/drive/MyDrive/machine learning/DAY 2/detected_faces/face_11.jpg\n",
            "Saved: /content/drive/MyDrive/machine learning/DAY 2/detected_faces/face_12.jpg\n",
            "Saved: /content/drive/MyDrive/machine learning/DAY 2/detected_faces/face_13.jpg\n",
            "Saved: /content/drive/MyDrive/machine learning/DAY 2/detected_faces/face_14.jpg\n",
            "Saved: /content/drive/MyDrive/machine learning/DAY 2/detected_faces/face_15.jpg\n",
            "Saved: /content/drive/MyDrive/machine learning/DAY 2/detected_faces/face_16.jpg\n",
            "Saved: /content/drive/MyDrive/machine learning/DAY 2/detected_faces/face_17.jpg\n",
            "Saved: /content/drive/MyDrive/machine learning/DAY 2/detected_faces/face_18.jpg\n",
            "Saved: /content/drive/MyDrive/machine learning/DAY 2/detected_faces/face_19.jpg\n",
            "Saved: /content/drive/MyDrive/machine learning/DAY 2/detected_faces/face_20.jpg\n",
            "Saved: /content/drive/MyDrive/machine learning/DAY 2/detected_faces/face_21.jpg\n",
            "Saved: /content/drive/MyDrive/machine learning/DAY 2/detected_faces/face_22.jpg\n",
            "Saved: /content/drive/MyDrive/machine learning/DAY 2/detected_faces/face_23.jpg\n",
            "Saved: /content/drive/MyDrive/machine learning/DAY 2/detected_faces/face_24.jpg\n",
            "Saved: /content/drive/MyDrive/machine learning/DAY 2/detected_faces/face_25.jpg\n",
            "Saved: /content/drive/MyDrive/machine learning/DAY 2/detected_faces/face_26.jpg\n",
            "Saved: /content/drive/MyDrive/machine learning/DAY 2/detected_faces/face_27.jpg\n",
            "Saved: /content/drive/MyDrive/machine learning/DAY 2/detected_faces/face_28.jpg\n",
            "Saved: /content/drive/MyDrive/machine learning/DAY 2/detected_faces/face_29.jpg\n",
            "Saved: /content/drive/MyDrive/machine learning/DAY 2/detected_faces/face_30.jpg\n",
            "Saved: /content/drive/MyDrive/machine learning/DAY 2/detected_faces/face_31.jpg\n",
            "Saved: /content/drive/MyDrive/machine learning/DAY 2/detected_faces/face_32.jpg\n",
            "Saved: /content/drive/MyDrive/machine learning/DAY 2/detected_faces/face_33.jpg\n",
            "Saved: /content/drive/MyDrive/machine learning/DAY 2/detected_faces/face_34.jpg\n",
            "Saved: /content/drive/MyDrive/machine learning/DAY 2/detected_faces/face_35.jpg\n",
            "Saved: /content/drive/MyDrive/machine learning/DAY 2/detected_faces/face_36.jpg\n",
            "Saved: /content/drive/MyDrive/machine learning/DAY 2/detected_faces/face_37.jpg\n",
            "Saved: /content/drive/MyDrive/machine learning/DAY 2/detected_faces/face_38.jpg\n",
            "Saved: /content/drive/MyDrive/machine learning/DAY 2/detected_faces/face_39.jpg\n",
            "Saved: /content/drive/MyDrive/machine learning/DAY 2/detected_faces/face_40.jpg\n",
            "Saved: /content/drive/MyDrive/machine learning/DAY 2/detected_faces/face_41.jpg\n",
            "Saved: /content/drive/MyDrive/machine learning/DAY 2/detected_faces/face_42.jpg\n",
            "Saved: /content/drive/MyDrive/machine learning/DAY 2/detected_faces/face_43.jpg\n",
            "Saved: /content/drive/MyDrive/machine learning/DAY 2/detected_faces/face_44.jpg\n",
            "Saved: /content/drive/MyDrive/machine learning/DAY 2/detected_faces/face_45.jpg\n",
            "Saved: /content/drive/MyDrive/machine learning/DAY 2/detected_faces/face_46.jpg\n",
            "Saved: /content/drive/MyDrive/machine learning/DAY 2/detected_faces/face_47.jpg\n",
            "Saved: /content/drive/MyDrive/machine learning/DAY 2/detected_faces/face_48.jpg\n",
            "Saved: /content/drive/MyDrive/machine learning/DAY 2/detected_faces/face_49.jpg\n",
            "Saved: /content/drive/MyDrive/machine learning/DAY 2/detected_faces/face_50.jpg\n",
            "Saved: /content/drive/MyDrive/machine learning/DAY 2/detected_faces/face_51.jpg\n",
            "Saved: /content/drive/MyDrive/machine learning/DAY 2/detected_faces/face_52.jpg\n",
            "Saved: /content/drive/MyDrive/machine learning/DAY 2/detected_faces/face_53.jpg\n",
            "Saved: /content/drive/MyDrive/machine learning/DAY 2/detected_faces/face_54.jpg\n",
            "Saved: /content/drive/MyDrive/machine learning/DAY 2/detected_faces/face_55.jpg\n",
            "Saved: /content/drive/MyDrive/machine learning/DAY 2/detected_faces/face_56.jpg\n",
            "Saved: /content/drive/MyDrive/machine learning/DAY 2/detected_faces/face_57.jpg\n",
            "Saved: /content/drive/MyDrive/machine learning/DAY 2/detected_faces/face_58.jpg\n",
            "Saved: /content/drive/MyDrive/machine learning/DAY 2/detected_faces/face_59.jpg\n",
            "Saved: /content/drive/MyDrive/machine learning/DAY 2/detected_faces/face_60.jpg\n",
            "Saved: /content/drive/MyDrive/machine learning/DAY 2/detected_faces/face_61.jpg\n",
            "Saved: /content/drive/MyDrive/machine learning/DAY 2/detected_faces/face_62.jpg\n",
            "Saved: /content/drive/MyDrive/machine learning/DAY 2/detected_faces/face_63.jpg\n",
            "Saved: /content/drive/MyDrive/machine learning/DAY 2/detected_faces/face_64.jpg\n",
            "Saved: /content/drive/MyDrive/machine learning/DAY 2/detected_faces/face_65.jpg\n",
            "Saved: /content/drive/MyDrive/machine learning/DAY 2/detected_faces/face_66.jpg\n",
            "Saved: /content/drive/MyDrive/machine learning/DAY 2/detected_faces/face_67.jpg\n",
            "Saved: /content/drive/MyDrive/machine learning/DAY 2/detected_faces/face_68.jpg\n",
            "Saved: /content/drive/MyDrive/machine learning/DAY 2/detected_faces/face_69.jpg\n",
            "Saved: /content/drive/MyDrive/machine learning/DAY 2/detected_faces/face_70.jpg\n",
            "Saved: /content/drive/MyDrive/machine learning/DAY 2/detected_faces/face_71.jpg\n",
            "Saved: /content/drive/MyDrive/machine learning/DAY 2/detected_faces/face_72.jpg\n",
            "Saved: /content/drive/MyDrive/machine learning/DAY 2/detected_faces/face_73.jpg\n",
            "Saved: /content/drive/MyDrive/machine learning/DAY 2/detected_faces/face_74.jpg\n",
            "Saved: /content/drive/MyDrive/machine learning/DAY 2/detected_faces/face_75.jpg\n",
            "Saved: /content/drive/MyDrive/machine learning/DAY 2/detected_faces/face_76.jpg\n",
            "Saved: /content/drive/MyDrive/machine learning/DAY 2/detected_faces/face_77.jpg\n",
            "Saved: /content/drive/MyDrive/machine learning/DAY 2/detected_faces/face_78.jpg\n",
            "Saved: /content/drive/MyDrive/machine learning/DAY 2/detected_faces/face_79.jpg\n",
            "Saved: /content/drive/MyDrive/machine learning/DAY 2/detected_faces/face_80.jpg\n",
            "Saved: /content/drive/MyDrive/machine learning/DAY 2/detected_faces/face_81.jpg\n",
            "Saved: /content/drive/MyDrive/machine learning/DAY 2/detected_faces/face_82.jpg\n",
            "Saved: /content/drive/MyDrive/machine learning/DAY 2/detected_faces/face_83.jpg\n",
            "Total faces saved: 84\n"
          ]
        }
      ]
    },
    {
      "cell_type": "code",
      "source": [],
      "metadata": {
        "id": "h0iFK9OsGrgD"
      },
      "execution_count": null,
      "outputs": []
    }
  ]
}
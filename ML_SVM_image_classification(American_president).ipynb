{
  "nbformat": 4,
  "nbformat_minor": 0,
  "metadata": {
    "colab": {
      "provenance": [],
      "mount_file_id": "1OeEMb8W8ZdOLmhd_DmfAJ9UwChEMxLpZ",
      "authorship_tag": "ABX9TyM0Rsrk+h20jVteqjaqMNuH",
      "include_colab_link": true
    },
    "kernelspec": {
      "name": "python3",
      "display_name": "Python 3"
    },
    "language_info": {
      "name": "python"
    }
  },
  "cells": [
    {
      "cell_type": "markdown",
      "metadata": {
        "id": "view-in-github",
        "colab_type": "text"
      },
      "source": [
        "<a href=\"https://colab.research.google.com/github/dinukaattanayaka/ML-SVM-image-classification-American-president-/blob/main/ML_SVM_image_classification(American_president).ipynb\" target=\"_parent\"><img src=\"https://colab.research.google.com/assets/colab-badge.svg\" alt=\"Open In Colab\"/></a>"
      ]
    },
    {
      "cell_type": "code",
      "source": [
        "from google.colab import drive\n",
        "drive.mount('/content/drive')"
      ],
      "metadata": {
        "colab": {
          "base_uri": "https://localhost:8080/"
        },
        "id": "WFTa7Poh_Ksw",
        "outputId": "36b8100f-5851-47dc-c025-db9263182209"
      },
      "execution_count": null,
      "outputs": [
        {
          "output_type": "stream",
          "name": "stdout",
          "text": [
            "Drive already mounted at /content/drive; to attempt to forcibly remount, call drive.mount(\"/content/drive\", force_remount=True).\n"
          ]
        }
      ]
    },
    {
      "cell_type": "code",
      "source": [
        "import os\n",
        "import cv2\n",
        "import numpy as np"
      ],
      "metadata": {
        "id": "Hon_NbCDp9lk"
      },
      "execution_count": null,
      "outputs": []
    },
    {
      "cell_type": "code",
      "source": [
        "\n",
        "# Paths\n",
        "data_path = '/content/drive/MyDrive/machine learning/DAY 2/train_data_2'\n",
        "\n",
        "# Get labels and categories\n",
        "labels = os.listdir(data_path)\n",
        "categories = np.arange(len(labels))\n",
        "category_dict = dict(zip(labels, categories))\n",
        "\n",
        "print(\"Labels:\", labels)\n",
        "print(\"Categories:\", categories)\n",
        "print(\"Category Dictionary:\", category_dict)\n",
        "\n",
        "# Initialize face classifier\n",
        "face_classifier = cv2.CascadeClassifier('/content/drive/MyDrive/machine learning/DAY 2/haarcascade_frontalface_default.xml')\n",
        "\n",
        "# Loop through each label\n",
        "face_count = 0\n",
        "for label in labels:\n",
        "    imgs_path = os.path.join(data_path, label)\n",
        "    img_names = os.listdir(imgs_path)\n",
        "\n",
        "    # Loop through each image\n",
        "    for img_name in img_names:\n",
        "        img_path = os.path.join(imgs_path, img_name)\n",
        "        img = cv2.imread(img_path)\n",
        "\n",
        "        if img is None:\n",
        "            print(f\"Failed to load image: {img_path}\")\n",
        "            continue\n",
        "\n",
        "        # Convert to grayscale\n",
        "        gray = cv2.cvtColor(img, cv2.COLOR_BGR2GRAY)\n",
        "        faces = face_classifier.detectMultiScale(gray)\n",
        "\n",
        "        # Process detected faces\n",
        "        for (x, y, w, h) in faces:\n",
        "            cropped_face = gray[y:y+h, x:x+w]\n",
        "            resized_face = cv2.resize(cropped_face, (50, 50))\n",
        "\n",
        "\n",
        "            # Save based on label\n",
        "            if label == 'Barack Obama':\n",
        "                output_path = '/content/drive/MyDrive/machine learning/DAY 2/resized_faces/barack_obama'\n",
        "            elif label == 'Donald Trump':\n",
        "                output_path = '/content/drive/MyDrive/machine learning/DAY 2/resized_faces/donald_trump'\n",
        "            elif label == 'George W Bush':\n",
        "                output_path = '/content/drive/MyDrive/machine learning/DAY 2/resized_faces/george_w_bush'\n",
        "            else:\n",
        "                print(f\"Unknown label: {label}, skipping...\")\n",
        "                continue\n",
        "\n",
        "            # Create directory if it doesn't exist\n",
        "            os.makedirs(output_path, exist_ok=True)\n",
        "\n",
        "            # Save face to output folder\n",
        "            face_file = os.path.join(output_path, f\"face_{face_count}.jpg\")\n",
        "            cv2.imwrite(face_file, resized_face)\n",
        "            print(f\"Saved: {face_file}\")\n",
        "\n",
        "            face_count += 1\n",
        "\n",
        "print(f\"Total faces saved: {face_count}\")\n"
      ],
      "metadata": {
        "id": "h0iFK9OsGrgD",
        "colab": {
          "base_uri": "https://localhost:8080/"
        },
        "outputId": "b946e35e-a15e-4847-b29e-477a81f49825"
      },
      "execution_count": null,
      "outputs": [
        {
          "output_type": "stream",
          "name": "stdout",
          "text": [
            "Labels: ['Barack Obama', 'Donald Trump', 'George W Bush']\n",
            "Categories: [0 1 2]\n",
            "Category Dictionary: {'Barack Obama': 0, 'Donald Trump': 1, 'George W Bush': 2}\n",
            "Saved: /content/drive/MyDrive/machine learning/DAY 2/resized_faces/barack_obama/face_0.jpg\n",
            "Saved: /content/drive/MyDrive/machine learning/DAY 2/resized_faces/barack_obama/face_1.jpg\n",
            "Saved: /content/drive/MyDrive/machine learning/DAY 2/resized_faces/barack_obama/face_2.jpg\n",
            "Saved: /content/drive/MyDrive/machine learning/DAY 2/resized_faces/barack_obama/face_3.jpg\n",
            "Saved: /content/drive/MyDrive/machine learning/DAY 2/resized_faces/barack_obama/face_4.jpg\n",
            "Saved: /content/drive/MyDrive/machine learning/DAY 2/resized_faces/barack_obama/face_5.jpg\n",
            "Saved: /content/drive/MyDrive/machine learning/DAY 2/resized_faces/barack_obama/face_6.jpg\n",
            "Saved: /content/drive/MyDrive/machine learning/DAY 2/resized_faces/barack_obama/face_7.jpg\n",
            "Saved: /content/drive/MyDrive/machine learning/DAY 2/resized_faces/barack_obama/face_8.jpg\n",
            "Saved: /content/drive/MyDrive/machine learning/DAY 2/resized_faces/barack_obama/face_9.jpg\n",
            "Saved: /content/drive/MyDrive/machine learning/DAY 2/resized_faces/barack_obama/face_10.jpg\n",
            "Saved: /content/drive/MyDrive/machine learning/DAY 2/resized_faces/barack_obama/face_11.jpg\n",
            "Saved: /content/drive/MyDrive/machine learning/DAY 2/resized_faces/barack_obama/face_12.jpg\n",
            "Saved: /content/drive/MyDrive/machine learning/DAY 2/resized_faces/barack_obama/face_13.jpg\n",
            "Saved: /content/drive/MyDrive/machine learning/DAY 2/resized_faces/barack_obama/face_14.jpg\n",
            "Saved: /content/drive/MyDrive/machine learning/DAY 2/resized_faces/barack_obama/face_15.jpg\n",
            "Saved: /content/drive/MyDrive/machine learning/DAY 2/resized_faces/barack_obama/face_16.jpg\n",
            "Saved: /content/drive/MyDrive/machine learning/DAY 2/resized_faces/barack_obama/face_17.jpg\n",
            "Saved: /content/drive/MyDrive/machine learning/DAY 2/resized_faces/barack_obama/face_18.jpg\n",
            "Saved: /content/drive/MyDrive/machine learning/DAY 2/resized_faces/donald_trump/face_19.jpg\n",
            "Saved: /content/drive/MyDrive/machine learning/DAY 2/resized_faces/donald_trump/face_20.jpg\n",
            "Saved: /content/drive/MyDrive/machine learning/DAY 2/resized_faces/donald_trump/face_21.jpg\n",
            "Saved: /content/drive/MyDrive/machine learning/DAY 2/resized_faces/donald_trump/face_22.jpg\n",
            "Saved: /content/drive/MyDrive/machine learning/DAY 2/resized_faces/donald_trump/face_23.jpg\n",
            "Saved: /content/drive/MyDrive/machine learning/DAY 2/resized_faces/donald_trump/face_24.jpg\n",
            "Saved: /content/drive/MyDrive/machine learning/DAY 2/resized_faces/donald_trump/face_25.jpg\n",
            "Saved: /content/drive/MyDrive/machine learning/DAY 2/resized_faces/donald_trump/face_26.jpg\n",
            "Saved: /content/drive/MyDrive/machine learning/DAY 2/resized_faces/donald_trump/face_27.jpg\n",
            "Saved: /content/drive/MyDrive/machine learning/DAY 2/resized_faces/donald_trump/face_28.jpg\n",
            "Saved: /content/drive/MyDrive/machine learning/DAY 2/resized_faces/donald_trump/face_29.jpg\n",
            "Saved: /content/drive/MyDrive/machine learning/DAY 2/resized_faces/donald_trump/face_30.jpg\n",
            "Saved: /content/drive/MyDrive/machine learning/DAY 2/resized_faces/donald_trump/face_31.jpg\n",
            "Saved: /content/drive/MyDrive/machine learning/DAY 2/resized_faces/donald_trump/face_32.jpg\n",
            "Saved: /content/drive/MyDrive/machine learning/DAY 2/resized_faces/donald_trump/face_33.jpg\n",
            "Saved: /content/drive/MyDrive/machine learning/DAY 2/resized_faces/donald_trump/face_34.jpg\n",
            "Saved: /content/drive/MyDrive/machine learning/DAY 2/resized_faces/donald_trump/face_35.jpg\n",
            "Saved: /content/drive/MyDrive/machine learning/DAY 2/resized_faces/donald_trump/face_36.jpg\n",
            "Saved: /content/drive/MyDrive/machine learning/DAY 2/resized_faces/donald_trump/face_37.jpg\n",
            "Saved: /content/drive/MyDrive/machine learning/DAY 2/resized_faces/donald_trump/face_38.jpg\n",
            "Saved: /content/drive/MyDrive/machine learning/DAY 2/resized_faces/donald_trump/face_39.jpg\n",
            "Saved: /content/drive/MyDrive/machine learning/DAY 2/resized_faces/donald_trump/face_40.jpg\n",
            "Saved: /content/drive/MyDrive/machine learning/DAY 2/resized_faces/donald_trump/face_41.jpg\n",
            "Saved: /content/drive/MyDrive/machine learning/DAY 2/resized_faces/donald_trump/face_42.jpg\n",
            "Saved: /content/drive/MyDrive/machine learning/DAY 2/resized_faces/donald_trump/face_43.jpg\n",
            "Saved: /content/drive/MyDrive/machine learning/DAY 2/resized_faces/donald_trump/face_44.jpg\n",
            "Saved: /content/drive/MyDrive/machine learning/DAY 2/resized_faces/donald_trump/face_45.jpg\n",
            "Saved: /content/drive/MyDrive/machine learning/DAY 2/resized_faces/donald_trump/face_46.jpg\n",
            "Saved: /content/drive/MyDrive/machine learning/DAY 2/resized_faces/donald_trump/face_47.jpg\n",
            "Saved: /content/drive/MyDrive/machine learning/DAY 2/resized_faces/donald_trump/face_48.jpg\n",
            "Saved: /content/drive/MyDrive/machine learning/DAY 2/resized_faces/donald_trump/face_49.jpg\n",
            "Saved: /content/drive/MyDrive/machine learning/DAY 2/resized_faces/donald_trump/face_50.jpg\n",
            "Saved: /content/drive/MyDrive/machine learning/DAY 2/resized_faces/donald_trump/face_51.jpg\n",
            "Saved: /content/drive/MyDrive/machine learning/DAY 2/resized_faces/donald_trump/face_52.jpg\n",
            "Saved: /content/drive/MyDrive/machine learning/DAY 2/resized_faces/donald_trump/face_53.jpg\n",
            "Saved: /content/drive/MyDrive/machine learning/DAY 2/resized_faces/donald_trump/face_54.jpg\n",
            "Saved: /content/drive/MyDrive/machine learning/DAY 2/resized_faces/donald_trump/face_55.jpg\n",
            "Saved: /content/drive/MyDrive/machine learning/DAY 2/resized_faces/george_w_bush/face_56.jpg\n",
            "Saved: /content/drive/MyDrive/machine learning/DAY 2/resized_faces/george_w_bush/face_57.jpg\n",
            "Saved: /content/drive/MyDrive/machine learning/DAY 2/resized_faces/george_w_bush/face_58.jpg\n",
            "Saved: /content/drive/MyDrive/machine learning/DAY 2/resized_faces/george_w_bush/face_59.jpg\n",
            "Saved: /content/drive/MyDrive/machine learning/DAY 2/resized_faces/george_w_bush/face_60.jpg\n",
            "Saved: /content/drive/MyDrive/machine learning/DAY 2/resized_faces/george_w_bush/face_61.jpg\n",
            "Saved: /content/drive/MyDrive/machine learning/DAY 2/resized_faces/george_w_bush/face_62.jpg\n",
            "Saved: /content/drive/MyDrive/machine learning/DAY 2/resized_faces/george_w_bush/face_63.jpg\n",
            "Saved: /content/drive/MyDrive/machine learning/DAY 2/resized_faces/george_w_bush/face_64.jpg\n",
            "Saved: /content/drive/MyDrive/machine learning/DAY 2/resized_faces/george_w_bush/face_65.jpg\n",
            "Saved: /content/drive/MyDrive/machine learning/DAY 2/resized_faces/george_w_bush/face_66.jpg\n",
            "Saved: /content/drive/MyDrive/machine learning/DAY 2/resized_faces/george_w_bush/face_67.jpg\n",
            "Saved: /content/drive/MyDrive/machine learning/DAY 2/resized_faces/george_w_bush/face_68.jpg\n",
            "Saved: /content/drive/MyDrive/machine learning/DAY 2/resized_faces/george_w_bush/face_69.jpg\n",
            "Saved: /content/drive/MyDrive/machine learning/DAY 2/resized_faces/george_w_bush/face_70.jpg\n",
            "Saved: /content/drive/MyDrive/machine learning/DAY 2/resized_faces/george_w_bush/face_71.jpg\n",
            "Saved: /content/drive/MyDrive/machine learning/DAY 2/resized_faces/george_w_bush/face_72.jpg\n",
            "Saved: /content/drive/MyDrive/machine learning/DAY 2/resized_faces/george_w_bush/face_73.jpg\n",
            "Saved: /content/drive/MyDrive/machine learning/DAY 2/resized_faces/george_w_bush/face_74.jpg\n",
            "Saved: /content/drive/MyDrive/machine learning/DAY 2/resized_faces/george_w_bush/face_75.jpg\n",
            "Saved: /content/drive/MyDrive/machine learning/DAY 2/resized_faces/george_w_bush/face_76.jpg\n",
            "Saved: /content/drive/MyDrive/machine learning/DAY 2/resized_faces/george_w_bush/face_77.jpg\n",
            "Saved: /content/drive/MyDrive/machine learning/DAY 2/resized_faces/george_w_bush/face_78.jpg\n",
            "Saved: /content/drive/MyDrive/machine learning/DAY 2/resized_faces/george_w_bush/face_79.jpg\n",
            "Saved: /content/drive/MyDrive/machine learning/DAY 2/resized_faces/george_w_bush/face_80.jpg\n",
            "Saved: /content/drive/MyDrive/machine learning/DAY 2/resized_faces/george_w_bush/face_81.jpg\n",
            "Saved: /content/drive/MyDrive/machine learning/DAY 2/resized_faces/george_w_bush/face_82.jpg\n",
            "Saved: /content/drive/MyDrive/machine learning/DAY 2/resized_faces/george_w_bush/face_83.jpg\n",
            "Total faces saved: 84\n"
          ]
        }
      ]
    },
    {
      "cell_type": "code",
      "source": [
        "clean_data_path = '/content/drive/MyDrive/machine learning/DAY 2/resized_faces manual clean'\n",
        "\n",
        "# Get labels and categories\n",
        "labels = os.listdir(clean_data_path)\n",
        "categories = np.arange(len(labels))\n",
        "category_dict = dict(zip(labels, categories))\n",
        "\n",
        "print(\"Labels:\", labels)\n",
        "print(\"Categories:\", categories)\n",
        "print(\"Category Dictionary:\", category_dict)"
      ],
      "metadata": {
        "colab": {
          "base_uri": "https://localhost:8080/"
        },
        "id": "1EN4kbiKmmRM",
        "outputId": "d7d99e99-b3d1-45f8-86e9-538ca6914a14"
      },
      "execution_count": null,
      "outputs": [
        {
          "output_type": "stream",
          "name": "stdout",
          "text": [
            "Labels: ['barack_obama', 'donald_trump', 'george_w_bush']\n",
            "Categories: [0 1 2]\n",
            "Category Dictionary: {'barack_obama': 0, 'donald_trump': 1, 'george_w_bush': 2}\n"
          ]
        }
      ]
    },
    {
      "cell_type": "code",
      "source": [
        "data=[]      #create empty list\n",
        "target=[]\n",
        "\n",
        "for label in labels:\n",
        "    imgs_path = os.path.join(data_path, label)\n",
        "    img_names = os.listdir(imgs_path)\n",
        "\n",
        "    # Loop through each image\n",
        "    for img_name in img_names:\n",
        "        img_path = os.path.join(imgs_path, img_name)\n",
        "        img = cv2.imread(img_path)\n",
        "        gray_image = cv2.cvtColor(img, cv2.COLOR_BGR2GRAY)\n",
        "        print(gray_image.shape)\n",
        "\n",
        "\n",
        "        data.append(gray_image)          #image add to the empty list\n",
        "        target.append(category_dict[label])   #dict label value add to the list"
      ],
      "metadata": {
        "colab": {
          "base_uri": "https://localhost:8080/"
        },
        "id": "ojVT-hX9qWLV",
        "outputId": "040964a4-4207-4fd0-9522-d7b4beaa3641"
      },
      "execution_count": null,
      "outputs": [
        {
          "output_type": "stream",
          "name": "stdout",
          "text": [
            "(50, 50)\n",
            "(50, 50)\n",
            "(50, 50)\n",
            "(50, 50)\n",
            "(50, 50)\n",
            "(50, 50)\n",
            "(50, 50)\n",
            "(50, 50)\n",
            "(50, 50)\n",
            "(50, 50)\n",
            "(50, 50)\n",
            "(50, 50)\n",
            "(50, 50)\n",
            "(50, 50)\n",
            "(50, 50)\n",
            "(50, 50)\n",
            "(50, 50)\n",
            "(50, 50)\n",
            "(50, 50)\n",
            "(50, 50)\n",
            "(50, 50)\n",
            "(50, 50)\n",
            "(50, 50)\n",
            "(50, 50)\n",
            "(50, 50)\n"
          ]
        }
      ]
    },
    {
      "cell_type": "code",
      "source": [
        "data=np.array(data)\n",
        "data=data.reshape(data.shape[0],data.shape[1]*data.shape[2])\n",
        "target=np.array(target)\n",
        "\n",
        "np.save('/content/drive/MyDrive/machine learning/DAY 2/manual_clean_data',data) #manual_clean_data kyl numpy array ekakt save wenw dipu path eke\n",
        "np.save('/content/drive/MyDrive/machine learning/DAY 2/manual_clean_target',target)"
      ],
      "metadata": {
        "id": "WXHAxJPXx_AO"
      },
      "execution_count": null,
      "outputs": []
    },
    {
      "cell_type": "code",
      "source": [
        "np.array(data).shape"
      ],
      "metadata": {
        "colab": {
          "base_uri": "https://localhost:8080/"
        },
        "id": "ltQkAMhH06ys",
        "outputId": "008c9716-6dfb-4301-bed1-7a4ed032fcb4"
      },
      "execution_count": null,
      "outputs": [
        {
          "output_type": "execute_result",
          "data": {
            "text/plain": [
              "(25, 2500)"
            ]
          },
          "metadata": {},
          "execution_count": 36
        }
      ]
    },
    {
      "cell_type": "code",
      "source": [
        "print(data.shape)\n",
        "print(target.shape)"
      ],
      "metadata": {
        "colab": {
          "base_uri": "https://localhost:8080/"
        },
        "id": "YFCX3wMv5bwt",
        "outputId": "78a81554-f60e-49b1-d41c-9b8cdaf2d561"
      },
      "execution_count": null,
      "outputs": [
        {
          "output_type": "stream",
          "name": "stdout",
          "text": [
            "(25, 2500)\n",
            "(25,)\n"
          ]
        }
      ]
    },
    {
      "cell_type": "markdown",
      "source": [
        "Train the model"
      ],
      "metadata": {
        "id": "C-n9P2xT5K9w"
      }
    },
    {
      "cell_type": "code",
      "source": [
        "import numpy as np\n",
        "\n",
        "data=np.load('/content/drive/MyDrive/machine learning/DAY 2/data.npy')     #hadagnipu numpy array ekak use krnw\n",
        "target=np.load('/content/drive/MyDrive/machine learning/DAY 2/target.npy')"
      ],
      "metadata": {
        "id": "WIEUd7WY5Qgz"
      },
      "execution_count": 3,
      "outputs": []
    },
    {
      "cell_type": "code",
      "source": [
        "from sklearn.svm import SVC #importing the SVM\n",
        "from sklearn.decomposition import PCA #importing PCA\n",
        "from sklearn.pipeline import make_pipeline\n",
        "\n",
        "pca=PCA(n_components=150,whiten=True,random_state=42)\n",
        "svc=SVC(kernel='rbf')\n",
        "\n",
        "model=make_pipeline(pca,svc) #order eka wadagth pca apply wela thmi svc apply wenne"
      ],
      "metadata": {
        "id": "U8SO_5yJ8DvS"
      },
      "execution_count": 4,
      "outputs": []
    },
    {
      "cell_type": "code",
      "source": [
        "from sklearn.model_selection import train_test_split\n",
        "\n",
        "train_data,test_data,train_target,test_target=train_test_split(data,target,test_size=0.1)"
      ],
      "metadata": {
        "id": "IeRLsA5E8R3w"
      },
      "execution_count": 5,
      "outputs": []
    },
    {
      "cell_type": "code",
      "source": [
        "model.fit(train_data,train_target)"
      ],
      "metadata": {
        "colab": {
          "base_uri": "https://localhost:8080/",
          "height": 157
        },
        "id": "5shE-oo38W1b",
        "outputId": "f358dcac-97ee-44ff-8d07-0f59d281996a"
      },
      "execution_count": 6,
      "outputs": [
        {
          "output_type": "execute_result",
          "data": {
            "text/plain": [
              "Pipeline(steps=[('pca', PCA(n_components=150, random_state=42, whiten=True)),\n",
              "                ('svc', SVC())])"
            ],
            "text/html": [
              "<style>#sk-container-id-1 {\n",
              "  /* Definition of color scheme common for light and dark mode */\n",
              "  --sklearn-color-text: #000;\n",
              "  --sklearn-color-text-muted: #666;\n",
              "  --sklearn-color-line: gray;\n",
              "  /* Definition of color scheme for unfitted estimators */\n",
              "  --sklearn-color-unfitted-level-0: #fff5e6;\n",
              "  --sklearn-color-unfitted-level-1: #f6e4d2;\n",
              "  --sklearn-color-unfitted-level-2: #ffe0b3;\n",
              "  --sklearn-color-unfitted-level-3: chocolate;\n",
              "  /* Definition of color scheme for fitted estimators */\n",
              "  --sklearn-color-fitted-level-0: #f0f8ff;\n",
              "  --sklearn-color-fitted-level-1: #d4ebff;\n",
              "  --sklearn-color-fitted-level-2: #b3dbfd;\n",
              "  --sklearn-color-fitted-level-3: cornflowerblue;\n",
              "\n",
              "  /* Specific color for light theme */\n",
              "  --sklearn-color-text-on-default-background: var(--sg-text-color, var(--theme-code-foreground, var(--jp-content-font-color1, black)));\n",
              "  --sklearn-color-background: var(--sg-background-color, var(--theme-background, var(--jp-layout-color0, white)));\n",
              "  --sklearn-color-border-box: var(--sg-text-color, var(--theme-code-foreground, var(--jp-content-font-color1, black)));\n",
              "  --sklearn-color-icon: #696969;\n",
              "\n",
              "  @media (prefers-color-scheme: dark) {\n",
              "    /* Redefinition of color scheme for dark theme */\n",
              "    --sklearn-color-text-on-default-background: var(--sg-text-color, var(--theme-code-foreground, var(--jp-content-font-color1, white)));\n",
              "    --sklearn-color-background: var(--sg-background-color, var(--theme-background, var(--jp-layout-color0, #111)));\n",
              "    --sklearn-color-border-box: var(--sg-text-color, var(--theme-code-foreground, var(--jp-content-font-color1, white)));\n",
              "    --sklearn-color-icon: #878787;\n",
              "  }\n",
              "}\n",
              "\n",
              "#sk-container-id-1 {\n",
              "  color: var(--sklearn-color-text);\n",
              "}\n",
              "\n",
              "#sk-container-id-1 pre {\n",
              "  padding: 0;\n",
              "}\n",
              "\n",
              "#sk-container-id-1 input.sk-hidden--visually {\n",
              "  border: 0;\n",
              "  clip: rect(1px 1px 1px 1px);\n",
              "  clip: rect(1px, 1px, 1px, 1px);\n",
              "  height: 1px;\n",
              "  margin: -1px;\n",
              "  overflow: hidden;\n",
              "  padding: 0;\n",
              "  position: absolute;\n",
              "  width: 1px;\n",
              "}\n",
              "\n",
              "#sk-container-id-1 div.sk-dashed-wrapped {\n",
              "  border: 1px dashed var(--sklearn-color-line);\n",
              "  margin: 0 0.4em 0.5em 0.4em;\n",
              "  box-sizing: border-box;\n",
              "  padding-bottom: 0.4em;\n",
              "  background-color: var(--sklearn-color-background);\n",
              "}\n",
              "\n",
              "#sk-container-id-1 div.sk-container {\n",
              "  /* jupyter's `normalize.less` sets `[hidden] { display: none; }`\n",
              "     but bootstrap.min.css set `[hidden] { display: none !important; }`\n",
              "     so we also need the `!important` here to be able to override the\n",
              "     default hidden behavior on the sphinx rendered scikit-learn.org.\n",
              "     See: https://github.com/scikit-learn/scikit-learn/issues/21755 */\n",
              "  display: inline-block !important;\n",
              "  position: relative;\n",
              "}\n",
              "\n",
              "#sk-container-id-1 div.sk-text-repr-fallback {\n",
              "  display: none;\n",
              "}\n",
              "\n",
              "div.sk-parallel-item,\n",
              "div.sk-serial,\n",
              "div.sk-item {\n",
              "  /* draw centered vertical line to link estimators */\n",
              "  background-image: linear-gradient(var(--sklearn-color-text-on-default-background), var(--sklearn-color-text-on-default-background));\n",
              "  background-size: 2px 100%;\n",
              "  background-repeat: no-repeat;\n",
              "  background-position: center center;\n",
              "}\n",
              "\n",
              "/* Parallel-specific style estimator block */\n",
              "\n",
              "#sk-container-id-1 div.sk-parallel-item::after {\n",
              "  content: \"\";\n",
              "  width: 100%;\n",
              "  border-bottom: 2px solid var(--sklearn-color-text-on-default-background);\n",
              "  flex-grow: 1;\n",
              "}\n",
              "\n",
              "#sk-container-id-1 div.sk-parallel {\n",
              "  display: flex;\n",
              "  align-items: stretch;\n",
              "  justify-content: center;\n",
              "  background-color: var(--sklearn-color-background);\n",
              "  position: relative;\n",
              "}\n",
              "\n",
              "#sk-container-id-1 div.sk-parallel-item {\n",
              "  display: flex;\n",
              "  flex-direction: column;\n",
              "}\n",
              "\n",
              "#sk-container-id-1 div.sk-parallel-item:first-child::after {\n",
              "  align-self: flex-end;\n",
              "  width: 50%;\n",
              "}\n",
              "\n",
              "#sk-container-id-1 div.sk-parallel-item:last-child::after {\n",
              "  align-self: flex-start;\n",
              "  width: 50%;\n",
              "}\n",
              "\n",
              "#sk-container-id-1 div.sk-parallel-item:only-child::after {\n",
              "  width: 0;\n",
              "}\n",
              "\n",
              "/* Serial-specific style estimator block */\n",
              "\n",
              "#sk-container-id-1 div.sk-serial {\n",
              "  display: flex;\n",
              "  flex-direction: column;\n",
              "  align-items: center;\n",
              "  background-color: var(--sklearn-color-background);\n",
              "  padding-right: 1em;\n",
              "  padding-left: 1em;\n",
              "}\n",
              "\n",
              "\n",
              "/* Toggleable style: style used for estimator/Pipeline/ColumnTransformer box that is\n",
              "clickable and can be expanded/collapsed.\n",
              "- Pipeline and ColumnTransformer use this feature and define the default style\n",
              "- Estimators will overwrite some part of the style using the `sk-estimator` class\n",
              "*/\n",
              "\n",
              "/* Pipeline and ColumnTransformer style (default) */\n",
              "\n",
              "#sk-container-id-1 div.sk-toggleable {\n",
              "  /* Default theme specific background. It is overwritten whether we have a\n",
              "  specific estimator or a Pipeline/ColumnTransformer */\n",
              "  background-color: var(--sklearn-color-background);\n",
              "}\n",
              "\n",
              "/* Toggleable label */\n",
              "#sk-container-id-1 label.sk-toggleable__label {\n",
              "  cursor: pointer;\n",
              "  display: flex;\n",
              "  width: 100%;\n",
              "  margin-bottom: 0;\n",
              "  padding: 0.5em;\n",
              "  box-sizing: border-box;\n",
              "  text-align: center;\n",
              "  align-items: start;\n",
              "  justify-content: space-between;\n",
              "  gap: 0.5em;\n",
              "}\n",
              "\n",
              "#sk-container-id-1 label.sk-toggleable__label .caption {\n",
              "  font-size: 0.6rem;\n",
              "  font-weight: lighter;\n",
              "  color: var(--sklearn-color-text-muted);\n",
              "}\n",
              "\n",
              "#sk-container-id-1 label.sk-toggleable__label-arrow:before {\n",
              "  /* Arrow on the left of the label */\n",
              "  content: \"▸\";\n",
              "  float: left;\n",
              "  margin-right: 0.25em;\n",
              "  color: var(--sklearn-color-icon);\n",
              "}\n",
              "\n",
              "#sk-container-id-1 label.sk-toggleable__label-arrow:hover:before {\n",
              "  color: var(--sklearn-color-text);\n",
              "}\n",
              "\n",
              "/* Toggleable content - dropdown */\n",
              "\n",
              "#sk-container-id-1 div.sk-toggleable__content {\n",
              "  max-height: 0;\n",
              "  max-width: 0;\n",
              "  overflow: hidden;\n",
              "  text-align: left;\n",
              "  /* unfitted */\n",
              "  background-color: var(--sklearn-color-unfitted-level-0);\n",
              "}\n",
              "\n",
              "#sk-container-id-1 div.sk-toggleable__content.fitted {\n",
              "  /* fitted */\n",
              "  background-color: var(--sklearn-color-fitted-level-0);\n",
              "}\n",
              "\n",
              "#sk-container-id-1 div.sk-toggleable__content pre {\n",
              "  margin: 0.2em;\n",
              "  border-radius: 0.25em;\n",
              "  color: var(--sklearn-color-text);\n",
              "  /* unfitted */\n",
              "  background-color: var(--sklearn-color-unfitted-level-0);\n",
              "}\n",
              "\n",
              "#sk-container-id-1 div.sk-toggleable__content.fitted pre {\n",
              "  /* unfitted */\n",
              "  background-color: var(--sklearn-color-fitted-level-0);\n",
              "}\n",
              "\n",
              "#sk-container-id-1 input.sk-toggleable__control:checked~div.sk-toggleable__content {\n",
              "  /* Expand drop-down */\n",
              "  max-height: 200px;\n",
              "  max-width: 100%;\n",
              "  overflow: auto;\n",
              "}\n",
              "\n",
              "#sk-container-id-1 input.sk-toggleable__control:checked~label.sk-toggleable__label-arrow:before {\n",
              "  content: \"▾\";\n",
              "}\n",
              "\n",
              "/* Pipeline/ColumnTransformer-specific style */\n",
              "\n",
              "#sk-container-id-1 div.sk-label input.sk-toggleable__control:checked~label.sk-toggleable__label {\n",
              "  color: var(--sklearn-color-text);\n",
              "  background-color: var(--sklearn-color-unfitted-level-2);\n",
              "}\n",
              "\n",
              "#sk-container-id-1 div.sk-label.fitted input.sk-toggleable__control:checked~label.sk-toggleable__label {\n",
              "  background-color: var(--sklearn-color-fitted-level-2);\n",
              "}\n",
              "\n",
              "/* Estimator-specific style */\n",
              "\n",
              "/* Colorize estimator box */\n",
              "#sk-container-id-1 div.sk-estimator input.sk-toggleable__control:checked~label.sk-toggleable__label {\n",
              "  /* unfitted */\n",
              "  background-color: var(--sklearn-color-unfitted-level-2);\n",
              "}\n",
              "\n",
              "#sk-container-id-1 div.sk-estimator.fitted input.sk-toggleable__control:checked~label.sk-toggleable__label {\n",
              "  /* fitted */\n",
              "  background-color: var(--sklearn-color-fitted-level-2);\n",
              "}\n",
              "\n",
              "#sk-container-id-1 div.sk-label label.sk-toggleable__label,\n",
              "#sk-container-id-1 div.sk-label label {\n",
              "  /* The background is the default theme color */\n",
              "  color: var(--sklearn-color-text-on-default-background);\n",
              "}\n",
              "\n",
              "/* On hover, darken the color of the background */\n",
              "#sk-container-id-1 div.sk-label:hover label.sk-toggleable__label {\n",
              "  color: var(--sklearn-color-text);\n",
              "  background-color: var(--sklearn-color-unfitted-level-2);\n",
              "}\n",
              "\n",
              "/* Label box, darken color on hover, fitted */\n",
              "#sk-container-id-1 div.sk-label.fitted:hover label.sk-toggleable__label.fitted {\n",
              "  color: var(--sklearn-color-text);\n",
              "  background-color: var(--sklearn-color-fitted-level-2);\n",
              "}\n",
              "\n",
              "/* Estimator label */\n",
              "\n",
              "#sk-container-id-1 div.sk-label label {\n",
              "  font-family: monospace;\n",
              "  font-weight: bold;\n",
              "  display: inline-block;\n",
              "  line-height: 1.2em;\n",
              "}\n",
              "\n",
              "#sk-container-id-1 div.sk-label-container {\n",
              "  text-align: center;\n",
              "}\n",
              "\n",
              "/* Estimator-specific */\n",
              "#sk-container-id-1 div.sk-estimator {\n",
              "  font-family: monospace;\n",
              "  border: 1px dotted var(--sklearn-color-border-box);\n",
              "  border-radius: 0.25em;\n",
              "  box-sizing: border-box;\n",
              "  margin-bottom: 0.5em;\n",
              "  /* unfitted */\n",
              "  background-color: var(--sklearn-color-unfitted-level-0);\n",
              "}\n",
              "\n",
              "#sk-container-id-1 div.sk-estimator.fitted {\n",
              "  /* fitted */\n",
              "  background-color: var(--sklearn-color-fitted-level-0);\n",
              "}\n",
              "\n",
              "/* on hover */\n",
              "#sk-container-id-1 div.sk-estimator:hover {\n",
              "  /* unfitted */\n",
              "  background-color: var(--sklearn-color-unfitted-level-2);\n",
              "}\n",
              "\n",
              "#sk-container-id-1 div.sk-estimator.fitted:hover {\n",
              "  /* fitted */\n",
              "  background-color: var(--sklearn-color-fitted-level-2);\n",
              "}\n",
              "\n",
              "/* Specification for estimator info (e.g. \"i\" and \"?\") */\n",
              "\n",
              "/* Common style for \"i\" and \"?\" */\n",
              "\n",
              ".sk-estimator-doc-link,\n",
              "a:link.sk-estimator-doc-link,\n",
              "a:visited.sk-estimator-doc-link {\n",
              "  float: right;\n",
              "  font-size: smaller;\n",
              "  line-height: 1em;\n",
              "  font-family: monospace;\n",
              "  background-color: var(--sklearn-color-background);\n",
              "  border-radius: 1em;\n",
              "  height: 1em;\n",
              "  width: 1em;\n",
              "  text-decoration: none !important;\n",
              "  margin-left: 0.5em;\n",
              "  text-align: center;\n",
              "  /* unfitted */\n",
              "  border: var(--sklearn-color-unfitted-level-1) 1pt solid;\n",
              "  color: var(--sklearn-color-unfitted-level-1);\n",
              "}\n",
              "\n",
              ".sk-estimator-doc-link.fitted,\n",
              "a:link.sk-estimator-doc-link.fitted,\n",
              "a:visited.sk-estimator-doc-link.fitted {\n",
              "  /* fitted */\n",
              "  border: var(--sklearn-color-fitted-level-1) 1pt solid;\n",
              "  color: var(--sklearn-color-fitted-level-1);\n",
              "}\n",
              "\n",
              "/* On hover */\n",
              "div.sk-estimator:hover .sk-estimator-doc-link:hover,\n",
              ".sk-estimator-doc-link:hover,\n",
              "div.sk-label-container:hover .sk-estimator-doc-link:hover,\n",
              ".sk-estimator-doc-link:hover {\n",
              "  /* unfitted */\n",
              "  background-color: var(--sklearn-color-unfitted-level-3);\n",
              "  color: var(--sklearn-color-background);\n",
              "  text-decoration: none;\n",
              "}\n",
              "\n",
              "div.sk-estimator.fitted:hover .sk-estimator-doc-link.fitted:hover,\n",
              ".sk-estimator-doc-link.fitted:hover,\n",
              "div.sk-label-container:hover .sk-estimator-doc-link.fitted:hover,\n",
              ".sk-estimator-doc-link.fitted:hover {\n",
              "  /* fitted */\n",
              "  background-color: var(--sklearn-color-fitted-level-3);\n",
              "  color: var(--sklearn-color-background);\n",
              "  text-decoration: none;\n",
              "}\n",
              "\n",
              "/* Span, style for the box shown on hovering the info icon */\n",
              ".sk-estimator-doc-link span {\n",
              "  display: none;\n",
              "  z-index: 9999;\n",
              "  position: relative;\n",
              "  font-weight: normal;\n",
              "  right: .2ex;\n",
              "  padding: .5ex;\n",
              "  margin: .5ex;\n",
              "  width: min-content;\n",
              "  min-width: 20ex;\n",
              "  max-width: 50ex;\n",
              "  color: var(--sklearn-color-text);\n",
              "  box-shadow: 2pt 2pt 4pt #999;\n",
              "  /* unfitted */\n",
              "  background: var(--sklearn-color-unfitted-level-0);\n",
              "  border: .5pt solid var(--sklearn-color-unfitted-level-3);\n",
              "}\n",
              "\n",
              ".sk-estimator-doc-link.fitted span {\n",
              "  /* fitted */\n",
              "  background: var(--sklearn-color-fitted-level-0);\n",
              "  border: var(--sklearn-color-fitted-level-3);\n",
              "}\n",
              "\n",
              ".sk-estimator-doc-link:hover span {\n",
              "  display: block;\n",
              "}\n",
              "\n",
              "/* \"?\"-specific style due to the `<a>` HTML tag */\n",
              "\n",
              "#sk-container-id-1 a.estimator_doc_link {\n",
              "  float: right;\n",
              "  font-size: 1rem;\n",
              "  line-height: 1em;\n",
              "  font-family: monospace;\n",
              "  background-color: var(--sklearn-color-background);\n",
              "  border-radius: 1rem;\n",
              "  height: 1rem;\n",
              "  width: 1rem;\n",
              "  text-decoration: none;\n",
              "  /* unfitted */\n",
              "  color: var(--sklearn-color-unfitted-level-1);\n",
              "  border: var(--sklearn-color-unfitted-level-1) 1pt solid;\n",
              "}\n",
              "\n",
              "#sk-container-id-1 a.estimator_doc_link.fitted {\n",
              "  /* fitted */\n",
              "  border: var(--sklearn-color-fitted-level-1) 1pt solid;\n",
              "  color: var(--sklearn-color-fitted-level-1);\n",
              "}\n",
              "\n",
              "/* On hover */\n",
              "#sk-container-id-1 a.estimator_doc_link:hover {\n",
              "  /* unfitted */\n",
              "  background-color: var(--sklearn-color-unfitted-level-3);\n",
              "  color: var(--sklearn-color-background);\n",
              "  text-decoration: none;\n",
              "}\n",
              "\n",
              "#sk-container-id-1 a.estimator_doc_link.fitted:hover {\n",
              "  /* fitted */\n",
              "  background-color: var(--sklearn-color-fitted-level-3);\n",
              "}\n",
              "</style><div id=\"sk-container-id-1\" class=\"sk-top-container\"><div class=\"sk-text-repr-fallback\"><pre>Pipeline(steps=[(&#x27;pca&#x27;, PCA(n_components=150, random_state=42, whiten=True)),\n",
              "                (&#x27;svc&#x27;, SVC())])</pre><b>In a Jupyter environment, please rerun this cell to show the HTML representation or trust the notebook. <br />On GitHub, the HTML representation is unable to render, please try loading this page with nbviewer.org.</b></div><div class=\"sk-container\" hidden><div class=\"sk-item sk-dashed-wrapped\"><div class=\"sk-label-container\"><div class=\"sk-label fitted sk-toggleable\"><input class=\"sk-toggleable__control sk-hidden--visually\" id=\"sk-estimator-id-1\" type=\"checkbox\" ><label for=\"sk-estimator-id-1\" class=\"sk-toggleable__label fitted sk-toggleable__label-arrow\"><div><div>Pipeline</div></div><div><a class=\"sk-estimator-doc-link fitted\" rel=\"noreferrer\" target=\"_blank\" href=\"https://scikit-learn.org/1.6/modules/generated/sklearn.pipeline.Pipeline.html\">?<span>Documentation for Pipeline</span></a><span class=\"sk-estimator-doc-link fitted\">i<span>Fitted</span></span></div></label><div class=\"sk-toggleable__content fitted\"><pre>Pipeline(steps=[(&#x27;pca&#x27;, PCA(n_components=150, random_state=42, whiten=True)),\n",
              "                (&#x27;svc&#x27;, SVC())])</pre></div> </div></div><div class=\"sk-serial\"><div class=\"sk-item\"><div class=\"sk-estimator fitted sk-toggleable\"><input class=\"sk-toggleable__control sk-hidden--visually\" id=\"sk-estimator-id-2\" type=\"checkbox\" ><label for=\"sk-estimator-id-2\" class=\"sk-toggleable__label fitted sk-toggleable__label-arrow\"><div><div>PCA</div></div><div><a class=\"sk-estimator-doc-link fitted\" rel=\"noreferrer\" target=\"_blank\" href=\"https://scikit-learn.org/1.6/modules/generated/sklearn.decomposition.PCA.html\">?<span>Documentation for PCA</span></a></div></label><div class=\"sk-toggleable__content fitted\"><pre>PCA(n_components=150, random_state=42, whiten=True)</pre></div> </div></div><div class=\"sk-item\"><div class=\"sk-estimator fitted sk-toggleable\"><input class=\"sk-toggleable__control sk-hidden--visually\" id=\"sk-estimator-id-3\" type=\"checkbox\" ><label for=\"sk-estimator-id-3\" class=\"sk-toggleable__label fitted sk-toggleable__label-arrow\"><div><div>SVC</div></div><div><a class=\"sk-estimator-doc-link fitted\" rel=\"noreferrer\" target=\"_blank\" href=\"https://scikit-learn.org/1.6/modules/generated/sklearn.svm.SVC.html\">?<span>Documentation for SVC</span></a></div></label><div class=\"sk-toggleable__content fitted\"><pre>SVC()</pre></div> </div></div></div></div></div></div>"
            ]
          },
          "metadata": {},
          "execution_count": 6
        }
      ]
    },
    {
      "cell_type": "code",
      "source": [
        "predicted_target=model.predict(test_data)"
      ],
      "metadata": {
        "id": "Tf42FM4u8fyJ"
      },
      "execution_count": 7,
      "outputs": []
    },
    {
      "cell_type": "code",
      "source": [
        "from sklearn.metrics import accuracy_score\n",
        "\n",
        "acc=accuracy_score(test_target,predicted_target)\n",
        "print(acc) #meeta amatharawa precision    recall  f1-score blnna puluwn"
      ],
      "metadata": {
        "colab": {
          "base_uri": "https://localhost:8080/"
        },
        "id": "u4O280WH8jj9",
        "outputId": "55efcd79-eba3-4626-9288-b27be971a21e"
      },
      "execution_count": 8,
      "outputs": [
        {
          "output_type": "stream",
          "name": "stdout",
          "text": [
            "0.896551724137931\n"
          ]
        }
      ]
    },
    {
      "cell_type": "code",
      "source": [
        "from sklearn.metrics import classification_report  #classification report eka gnnw\n",
        "\n",
        "print(classification_report(test_target,predicted_target,target_names=['Barack Obama', 'Donald Trump', 'George W Bush']))\n",
        "#support kyn test krn dana set eka athule obama keeyk thibund wge"
      ],
      "metadata": {
        "colab": {
          "base_uri": "https://localhost:8080/"
        },
        "id": "SbG0Xl4z8uAJ",
        "outputId": "e08af730-d530-45d6-c811-f2794f925f84"
      },
      "execution_count": 9,
      "outputs": [
        {
          "output_type": "stream",
          "name": "stdout",
          "text": [
            "               precision    recall  f1-score   support\n",
            "\n",
            " Barack Obama       0.89      0.89      0.89         9\n",
            " Donald Trump       0.91      0.91      0.91        11\n",
            "George W Bush       0.89      0.89      0.89         9\n",
            "\n",
            "     accuracy                           0.90        29\n",
            "    macro avg       0.90      0.90      0.90        29\n",
            " weighted avg       0.90      0.90      0.90        29\n",
            "\n"
          ]
        }
      ]
    },
    {
      "cell_type": "code",
      "source": [
        "from sklearn.metrics import confusion_matrix\n",
        "\n",
        "matrix=confusion_matrix(test_target,predicted_target)\n",
        "print(matrix)"
      ],
      "metadata": {
        "colab": {
          "base_uri": "https://localhost:8080/"
        },
        "id": "7Z7y2gyb815d",
        "outputId": "9efabdc4-65c3-4eb2-d5e1-9231816daeaf"
      },
      "execution_count": 13,
      "outputs": [
        {
          "output_type": "stream",
          "name": "stdout",
          "text": [
            "[[ 8  0  1]\n",
            " [ 1 10  0]\n",
            " [ 0  1  8]]\n"
          ]
        }
      ]
    },
    {
      "cell_type": "code",
      "source": [
        "from sklearn.metrics import ConfusionMatrixDisplay\n",
        "\n",
        "# Creating the display\n",
        "disp = ConfusionMatrixDisplay(confusion_matrix=matrix, display_labels=['Barack Obama', 'Donald Trump', 'George W Bush'])\n",
        "disp.plot()\n"
      ],
      "metadata": {
        "colab": {
          "base_uri": "https://localhost:8080/",
          "height": 472
        },
        "id": "2D9y42TYdZNY",
        "outputId": "ebbdadd1-c57d-4d9b-f615-7d098688e8c7"
      },
      "execution_count": 14,
      "outputs": [
        {
          "output_type": "execute_result",
          "data": {
            "text/plain": [
              "<sklearn.metrics._plot.confusion_matrix.ConfusionMatrixDisplay at 0x7dfc6b3c3610>"
            ]
          },
          "metadata": {},
          "execution_count": 14
        },
        {
          "output_type": "display_data",
          "data": {
            "text/plain": [
              "<Figure size 640x480 with 2 Axes>"
            ],
            "image/png": "[encoded data removed]"
          },
          "metadata": {}
        }
      ]
    },
    {
      "cell_type": "code",
      "source": [
        "import joblib\n",
        "\n",
        "joblib.dump(model,'/content/drive/MyDrive/machine learning/DAY 2/ML SVM image classification(American president)(my).sav')"
      ],
      "metadata": {
        "colab": {
          "base_uri": "https://localhost:8080/"
        },
        "id": "XSST5Lcy89xE",
        "outputId": "a22eeb57-636f-459a-b9be-434e2b6acf9a"
      },
      "execution_count": null,
      "outputs": [
        {
          "output_type": "execute_result",
          "data": {
            "text/plain": [
              "['/content/drive/MyDrive/machine learning/DAY 2/ML SVM image classification(American president)(my).sav']"
            ]
          },
          "metadata": {},
          "execution_count": 46
        }
      ]
    }
  ]
}
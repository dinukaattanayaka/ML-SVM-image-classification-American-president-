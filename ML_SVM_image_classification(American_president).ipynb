{
  "nbformat": 4,
  "nbformat_minor": 0,
  "metadata": {
    "colab": {
      "provenance": [],
      "authorship_tag": "ABX9TyM0K2UpIm6g/uwWd5nsk4xU",
      "include_colab_link": true
    },
    "kernelspec": {
      "name": "python3",
      "display_name": "Python 3"
    },
    "language_info": {
      "name": "python"
    }
  },
  "cells": [
    {
      "cell_type": "markdown",
      "metadata": {
        "id": "view-in-github",
        "colab_type": "text"
      },
      "source": [
        "<a href=\"https://colab.research.google.com/github/dinukaattanayaka/ML-SVM-image-classification-American-president-/blob/main/ML_SVM_image_classification(American_president).ipynb\" target=\"_parent\"><img src=\"https://colab.research.google.com/assets/colab-badge.svg\" alt=\"Open In Colab\"/></a>"
      ]
    },
    {
      "cell_type": "code",
      "source": [
        "from google.colab import drive\n",
        "drive.mount('/content/drive')"
      ],
      "metadata": {
        "colab": {
          "base_uri": "https://localhost:8080/"
        },
        "id": "WFTa7Poh_Ksw",
        "outputId": "69e7b51d-40f6-4c2c-d984-d8f9a1555456"
      },
      "execution_count": 2,
      "outputs": [
        {
          "output_type": "stream",
          "name": "stdout",
          "text": [
            "Mounted at /content/drive\n"
          ]
        }
      ]
    },
    {
      "cell_type": "code",
      "source": [
        "import os\n",
        "import cv2\n",
        "import numpy as np\n",
        "\n",
        "# Paths\n",
        "data_path = '/content/drive/MyDrive/machine learning/DAY 2/train_data_2'\n",
        "\n",
        "# Get labels and categories\n",
        "labels = os.listdir(data_path)\n",
        "categories = np.arange(len(labels))\n",
        "category_dict = dict(zip(labels, categories))\n",
        "\n",
        "print(\"Labels:\", labels)\n",
        "print(\"Categories:\", categories)\n",
        "print(\"Category Dictionary:\", category_dict)\n",
        "\n",
        "# Initialize face classifier\n",
        "face_classifier = cv2.CascadeClassifier('/content/drive/MyDrive/machine learning/DAY 2/haarcascade_frontalface_default.xml')\n",
        "\n",
        "# Loop through each label\n",
        "face_count = 0\n",
        "for label in labels:\n",
        "    imgs_path = os.path.join(data_path, label)\n",
        "    img_names = os.listdir(imgs_path)\n",
        "\n",
        "    # Loop through each image\n",
        "    for img_name in img_names:\n",
        "        img_path = os.path.join(imgs_path, img_name)\n",
        "        img = cv2.imread(img_path)\n",
        "\n",
        "        if img is None:\n",
        "            print(f\"Failed to load image: {img_path}\")\n",
        "            continue\n",
        "\n",
        "        # Convert to grayscale\n",
        "        gray = cv2.cvtColor(img, cv2.COLOR_BGR2GRAY)\n",
        "        faces = face_classifier.detectMultiScale(gray)\n",
        "\n",
        "        # Process detected faces\n",
        "        for (x, y, w, h) in faces:\n",
        "            cropped_face = gray[y:y+h, x:x+w]\n",
        "            resized_face = cv2.resize(cropped_face, (50, 50))\n",
        "\n",
        "\n",
        "            # Save based on label\n",
        "            if label == 'Barack Obama':\n",
        "                output_path = '/content/drive/MyDrive/machine learning/DAY 2/resized_faces/barack_obama'\n",
        "            elif label == 'Donald Trump':\n",
        "                output_path = '/content/drive/MyDrive/machine learning/DAY 2/resized_faces/donald_trump'\n",
        "            elif label == 'George W Bush':\n",
        "                output_path = '/content/drive/MyDrive/machine learning/DAY 2/resized_faces/george_w_bush'\n",
        "            else:\n",
        "                print(f\"Unknown label: {label}, skipping...\")\n",
        "                continue\n",
        "\n",
        "            # Create directory if it doesn't exist\n",
        "            os.makedirs(output_path, exist_ok=True)\n",
        "\n",
        "            # Save face to output folder\n",
        "            face_file = os.path.join(output_path, f\"face_{face_count}.jpg\")\n",
        "            cv2.imwrite(face_file, resized_face)\n",
        "            print(f\"Saved: {face_file}\")\n",
        "\n",
        "            face_count += 1\n",
        "\n",
        "print(f\"Total faces saved: {face_count}\")\n"
      ],
      "metadata": {
        "id": "h0iFK9OsGrgD",
        "colab": {
          "base_uri": "https://localhost:8080/"
        },
        "outputId": "b946e35e-a15e-4847-b29e-477a81f49825"
      },
      "execution_count": 12,
      "outputs": [
        {
          "output_type": "stream",
          "name": "stdout",
          "text": [
            "Labels: ['Barack Obama', 'Donald Trump', 'George W Bush']\n",
            "Categories: [0 1 2]\n",
            "Category Dictionary: {'Barack Obama': 0, 'Donald Trump': 1, 'George W Bush': 2}\n",
            "Saved: /content/drive/MyDrive/machine learning/DAY 2/resized_faces/barack_obama/face_0.jpg\n",
            "Saved: /content/drive/MyDrive/machine learning/DAY 2/resized_faces/barack_obama/face_1.jpg\n",
            "Saved: /content/drive/MyDrive/machine learning/DAY 2/resized_faces/barack_obama/face_2.jpg\n",
            "Saved: /content/drive/MyDrive/machine learning/DAY 2/resized_faces/barack_obama/face_3.jpg\n",
            "Saved: /content/drive/MyDrive/machine learning/DAY 2/resized_faces/barack_obama/face_4.jpg\n",
            "Saved: /content/drive/MyDrive/machine learning/DAY 2/resized_faces/barack_obama/face_5.jpg\n",
            "Saved: /content/drive/MyDrive/machine learning/DAY 2/resized_faces/barack_obama/face_6.jpg\n",
            "Saved: /content/drive/MyDrive/machine learning/DAY 2/resized_faces/barack_obama/face_7.jpg\n",
            "Saved: /content/drive/MyDrive/machine learning/DAY 2/resized_faces/barack_obama/face_8.jpg\n",
            "Saved: /content/drive/MyDrive/machine learning/DAY 2/resized_faces/barack_obama/face_9.jpg\n",
            "Saved: /content/drive/MyDrive/machine learning/DAY 2/resized_faces/barack_obama/face_10.jpg\n",
            "Saved: /content/drive/MyDrive/machine learning/DAY 2/resized_faces/barack_obama/face_11.jpg\n",
            "Saved: /content/drive/MyDrive/machine learning/DAY 2/resized_faces/barack_obama/face_12.jpg\n",
            "Saved: /content/drive/MyDrive/machine learning/DAY 2/resized_faces/barack_obama/face_13.jpg\n",
            "Saved: /content/drive/MyDrive/machine learning/DAY 2/resized_faces/barack_obama/face_14.jpg\n",
            "Saved: /content/drive/MyDrive/machine learning/DAY 2/resized_faces/barack_obama/face_15.jpg\n",
            "Saved: /content/drive/MyDrive/machine learning/DAY 2/resized_faces/barack_obama/face_16.jpg\n",
            "Saved: /content/drive/MyDrive/machine learning/DAY 2/resized_faces/barack_obama/face_17.jpg\n",
            "Saved: /content/drive/MyDrive/machine learning/DAY 2/resized_faces/barack_obama/face_18.jpg\n",
            "Saved: /content/drive/MyDrive/machine learning/DAY 2/resized_faces/donald_trump/face_19.jpg\n",
            "Saved: /content/drive/MyDrive/machine learning/DAY 2/resized_faces/donald_trump/face_20.jpg\n",
            "Saved: /content/drive/MyDrive/machine learning/DAY 2/resized_faces/donald_trump/face_21.jpg\n",
            "Saved: /content/drive/MyDrive/machine learning/DAY 2/resized_faces/donald_trump/face_22.jpg\n",
            "Saved: /content/drive/MyDrive/machine learning/DAY 2/resized_faces/donald_trump/face_23.jpg\n",
            "Saved: /content/drive/MyDrive/machine learning/DAY 2/resized_faces/donald_trump/face_24.jpg\n",
            "Saved: /content/drive/MyDrive/machine learning/DAY 2/resized_faces/donald_trump/face_25.jpg\n",
            "Saved: /content/drive/MyDrive/machine learning/DAY 2/resized_faces/donald_trump/face_26.jpg\n",
            "Saved: /content/drive/MyDrive/machine learning/DAY 2/resized_faces/donald_trump/face_27.jpg\n",
            "Saved: /content/drive/MyDrive/machine learning/DAY 2/resized_faces/donald_trump/face_28.jpg\n",
            "Saved: /content/drive/MyDrive/machine learning/DAY 2/resized_faces/donald_trump/face_29.jpg\n",
            "Saved: /content/drive/MyDrive/machine learning/DAY 2/resized_faces/donald_trump/face_30.jpg\n",
            "Saved: /content/drive/MyDrive/machine learning/DAY 2/resized_faces/donald_trump/face_31.jpg\n",
            "Saved: /content/drive/MyDrive/machine learning/DAY 2/resized_faces/donald_trump/face_32.jpg\n",
            "Saved: /content/drive/MyDrive/machine learning/DAY 2/resized_faces/donald_trump/face_33.jpg\n",
            "Saved: /content/drive/MyDrive/machine learning/DAY 2/resized_faces/donald_trump/face_34.jpg\n",
            "Saved: /content/drive/MyDrive/machine learning/DAY 2/resized_faces/donald_trump/face_35.jpg\n",
            "Saved: /content/drive/MyDrive/machine learning/DAY 2/resized_faces/donald_trump/face_36.jpg\n",
            "Saved: /content/drive/MyDrive/machine learning/DAY 2/resized_faces/donald_trump/face_37.jpg\n",
            "Saved: /content/drive/MyDrive/machine learning/DAY 2/resized_faces/donald_trump/face_38.jpg\n",
            "Saved: /content/drive/MyDrive/machine learning/DAY 2/resized_faces/donald_trump/face_39.jpg\n",
            "Saved: /content/drive/MyDrive/machine learning/DAY 2/resized_faces/donald_trump/face_40.jpg\n",
            "Saved: /content/drive/MyDrive/machine learning/DAY 2/resized_faces/donald_trump/face_41.jpg\n",
            "Saved: /content/drive/MyDrive/machine learning/DAY 2/resized_faces/donald_trump/face_42.jpg\n",
            "Saved: /content/drive/MyDrive/machine learning/DAY 2/resized_faces/donald_trump/face_43.jpg\n",
            "Saved: /content/drive/MyDrive/machine learning/DAY 2/resized_faces/donald_trump/face_44.jpg\n",
            "Saved: /content/drive/MyDrive/machine learning/DAY 2/resized_faces/donald_trump/face_45.jpg\n",
            "Saved: /content/drive/MyDrive/machine learning/DAY 2/resized_faces/donald_trump/face_46.jpg\n",
            "Saved: /content/drive/MyDrive/machine learning/DAY 2/resized_faces/donald_trump/face_47.jpg\n",
            "Saved: /content/drive/MyDrive/machine learning/DAY 2/resized_faces/donald_trump/face_48.jpg\n",
            "Saved: /content/drive/MyDrive/machine learning/DAY 2/resized_faces/donald_trump/face_49.jpg\n",
            "Saved: /content/drive/MyDrive/machine learning/DAY 2/resized_faces/donald_trump/face_50.jpg\n",
            "Saved: /content/drive/MyDrive/machine learning/DAY 2/resized_faces/donald_trump/face_51.jpg\n",
            "Saved: /content/drive/MyDrive/machine learning/DAY 2/resized_faces/donald_trump/face_52.jpg\n",
            "Saved: /content/drive/MyDrive/machine learning/DAY 2/resized_faces/donald_trump/face_53.jpg\n",
            "Saved: /content/drive/MyDrive/machine learning/DAY 2/resized_faces/donald_trump/face_54.jpg\n",
            "Saved: /content/drive/MyDrive/machine learning/DAY 2/resized_faces/donald_trump/face_55.jpg\n",
            "Saved: /content/drive/MyDrive/machine learning/DAY 2/resized_faces/george_w_bush/face_56.jpg\n",
            "Saved: /content/drive/MyDrive/machine learning/DAY 2/resized_faces/george_w_bush/face_57.jpg\n",
            "Saved: /content/drive/MyDrive/machine learning/DAY 2/resized_faces/george_w_bush/face_58.jpg\n",
            "Saved: /content/drive/MyDrive/machine learning/DAY 2/resized_faces/george_w_bush/face_59.jpg\n",
            "Saved: /content/drive/MyDrive/machine learning/DAY 2/resized_faces/george_w_bush/face_60.jpg\n",
            "Saved: /content/drive/MyDrive/machine learning/DAY 2/resized_faces/george_w_bush/face_61.jpg\n",
            "Saved: /content/drive/MyDrive/machine learning/DAY 2/resized_faces/george_w_bush/face_62.jpg\n",
            "Saved: /content/drive/MyDrive/machine learning/DAY 2/resized_faces/george_w_bush/face_63.jpg\n",
            "Saved: /content/drive/MyDrive/machine learning/DAY 2/resized_faces/george_w_bush/face_64.jpg\n",
            "Saved: /content/drive/MyDrive/machine learning/DAY 2/resized_faces/george_w_bush/face_65.jpg\n",
            "Saved: /content/drive/MyDrive/machine learning/DAY 2/resized_faces/george_w_bush/face_66.jpg\n",
            "Saved: /content/drive/MyDrive/machine learning/DAY 2/resized_faces/george_w_bush/face_67.jpg\n",
            "Saved: /content/drive/MyDrive/machine learning/DAY 2/resized_faces/george_w_bush/face_68.jpg\n",
            "Saved: /content/drive/MyDrive/machine learning/DAY 2/resized_faces/george_w_bush/face_69.jpg\n",
            "Saved: /content/drive/MyDrive/machine learning/DAY 2/resized_faces/george_w_bush/face_70.jpg\n",
            "Saved: /content/drive/MyDrive/machine learning/DAY 2/resized_faces/george_w_bush/face_71.jpg\n",
            "Saved: /content/drive/MyDrive/machine learning/DAY 2/resized_faces/george_w_bush/face_72.jpg\n",
            "Saved: /content/drive/MyDrive/machine learning/DAY 2/resized_faces/george_w_bush/face_73.jpg\n",
            "Saved: /content/drive/MyDrive/machine learning/DAY 2/resized_faces/george_w_bush/face_74.jpg\n",
            "Saved: /content/drive/MyDrive/machine learning/DAY 2/resized_faces/george_w_bush/face_75.jpg\n",
            "Saved: /content/drive/MyDrive/machine learning/DAY 2/resized_faces/george_w_bush/face_76.jpg\n",
            "Saved: /content/drive/MyDrive/machine learning/DAY 2/resized_faces/george_w_bush/face_77.jpg\n",
            "Saved: /content/drive/MyDrive/machine learning/DAY 2/resized_faces/george_w_bush/face_78.jpg\n",
            "Saved: /content/drive/MyDrive/machine learning/DAY 2/resized_faces/george_w_bush/face_79.jpg\n",
            "Saved: /content/drive/MyDrive/machine learning/DAY 2/resized_faces/george_w_bush/face_80.jpg\n",
            "Saved: /content/drive/MyDrive/machine learning/DAY 2/resized_faces/george_w_bush/face_81.jpg\n",
            "Saved: /content/drive/MyDrive/machine learning/DAY 2/resized_faces/george_w_bush/face_82.jpg\n",
            "Saved: /content/drive/MyDrive/machine learning/DAY 2/resized_faces/george_w_bush/face_83.jpg\n",
            "Total faces saved: 84\n"
          ]
        }
      ]
    }
  ]
}